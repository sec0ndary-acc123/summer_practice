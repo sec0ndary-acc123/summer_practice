{
  "nbformat": 4,
  "nbformat_minor": 0,
  "metadata": {
    "colab": {
      "provenance": []
    },
    "kernelspec": {
      "name": "python3",
      "display_name": "Python 3"
    },
    "language_info": {
      "name": "python"
    }
  },
  "cells": [
    {
      "cell_type": "code",
      "execution_count": 4,
      "metadata": {
        "colab": {
          "base_uri": "https://localhost:8080/"
        },
        "id": "FN2xGVy5XF4Q",
        "outputId": "762b84e8-a10f-4520-c1b9-f0147498c9d8"
      },
      "outputs": [
        {
          "output_type": "stream",
          "name": "stdout",
          "text": [
            "Первые 5 строк:\n",
            "         Date   Open   High    Low  Close  Volume Currency\n",
            "0  2000-01-04  289.5  289.5  280.0  283.7   21621      USD\n",
            "1  2000-01-05  283.7  285.0  281.0  282.1   25448      USD\n",
            "2  2000-01-06  281.6  282.8  280.2  282.4   19055      USD\n",
            "3  2000-01-07  282.5  284.5  282.0  282.9   11266      USD\n",
            "4  2000-01-10  282.4  283.9  281.8  282.7   30603      USD\n",
            "\n",
            "Последние 5 строк:\n",
            "            Date    Open     High      Low   Close  Volume Currency\n",
            "5698  2022-08-29  1748.4  1757.90  1731.40  1749.7  156220      USD\n",
            "5699  2022-08-30  1749.8  1752.80  1732.90  1736.3  130664      USD\n",
            "5700  2022-08-31  1735.5  1738.00  1720.60  1726.2  176731      USD\n",
            "5701  2022-09-01  1723.0  1723.00  1699.10  1709.3  198618      USD\n",
            "5702  2022-09-02  1707.9  1729.45  1707.05  1723.0       0      USD\n",
            "\n",
            "Случайная выборка:\n",
            "            Date    Open    High     Low   Close  Volume Currency\n",
            "1436  2005-10-04   469.0   472.7   467.4   469.3   43497      USD\n",
            "748   2003-01-03   346.0   353.5   343.6   351.6   37931      USD\n",
            "3463  2013-10-11  1286.4  1294.8  1259.6  1268.2  186264      USD\n",
            "1448  2005-10-20   465.8   467.4   462.0   463.2   59338      USD\n",
            "4351  2017-04-24  1280.0  1280.0  1266.0  1277.5  302842      USD\n",
            "\n",
            "Форма датафрейма (строки, столбцы): (5703, 7)\n",
            "Названия столбцов: ['Date', 'Open', 'High', 'Low', 'Close', 'Volume', 'Currency']\n",
            "\n",
            "Информация о датафрейме:\n",
            "<class 'pandas.core.frame.DataFrame'>\n",
            "RangeIndex: 5703 entries, 0 to 5702\n",
            "Data columns (total 7 columns):\n",
            " #   Column    Non-Null Count  Dtype  \n",
            "---  ------    --------------  -----  \n",
            " 0   Date      5703 non-null   object \n",
            " 1   Open      5703 non-null   float64\n",
            " 2   High      5703 non-null   float64\n",
            " 3   Low       5703 non-null   float64\n",
            " 4   Close     5703 non-null   float64\n",
            " 5   Volume    5703 non-null   int64  \n",
            " 6   Currency  5703 non-null   object \n",
            "dtypes: float64(4), int64(1), object(2)\n",
            "memory usage: 312.0+ KB\n",
            "\n",
            "Использование памяти по столбцам:\n",
            "Index          132\n",
            "Date        382101\n",
            "Open         45624\n",
            "High         45624\n",
            "Low          45624\n",
            "Close        45624\n",
            "Volume       45624\n",
            "Currency    342180\n",
            "dtype: int64\n"
          ]
        }
      ],
      "source": [
        "# Предобработка данных для датасета про золото\n",
        "\n",
        "import pandas as pd\n",
        "import numpy as np\n",
        "\n",
        "# 1. Знакомство с данными\n",
        "# Загружаем датасет\n",
        "df = pd.read_csv('gold.csv')\n",
        "\n",
        "# Первые 5 строк\n",
        "print('Первые 5 строк:')\n",
        "print(df.head())\n",
        "\n",
        "# Последние 5 строк\n",
        "print('\\nПоследние 5 строк:')\n",
        "print(df.tail())\n",
        "\n",
        "# Случайная выборка 5 строк\n",
        "print('\\nСлучайная выборка:')\n",
        "print(df.sample(5, random_state=42))\n",
        "\n",
        "# Атрибуты датафрейма\n",
        "print('\\nФорма датафрейма (строки, столбцы):', df.shape)\n",
        "print('Названия столбцов:', list(df.columns))\n",
        "\n",
        "# Информация о датафрейме\n",
        "print('\\nИнформация о датафрейме:')\n",
        "df.info()\n",
        "\n",
        "# Использование памяти\n",
        "print('\\nИспользование памяти по столбцам:')\n",
        "print(df.memory_usage(deep=True))"
      ]
    },
    {
      "cell_type": "code",
      "source": [
        "# 2. Выявление проблем в данных\n",
        "# Получим описательную статистику по числовым и категориальным столбцам\n",
        "print('\\nОписательная статистика (числовые столбцы):')\n",
        "print(df.describe())\n",
        "print('\\nОписательная статистика (все столбцы):')\n",
        "print(df.describe(include='all'))\n",
        "\n",
        "# Проверим уникальные значения для категориальных признаков\n",
        "print('\\nУникальные значения для категориальных столбцов:')\n",
        "for col in df.select_dtypes(include='object').columns:\n",
        "    print(f'{col}:', df[col].unique()[:10])  # Первые 10 уникальных значений\n",
        "\n",
        "# Здесь можно сделать выводы о структуре данных и выявленных проблемах (например, пропуски, выбросы, некорректные значения)\n",
        "# Выводы пишите после анализа вывода выше\n"
      ],
      "metadata": {
        "colab": {
          "base_uri": "https://localhost:8080/"
        },
        "id": "-9GE6Fb5XjmT",
        "outputId": "880fa224-72dd-4857-9ec1-afed8e99ee7f"
      },
      "execution_count": 5,
      "outputs": [
        {
          "output_type": "stream",
          "name": "stdout",
          "text": [
            "\n",
            "Описательная статистика (числовые столбцы):\n",
            "              Open         High          Low        Close         Volume\n",
            "count  5703.000000  5703.000000  5703.000000  5703.000000    5703.000000\n",
            "mean   1040.382816  1048.339181  1031.863169  1040.298282  139141.669297\n",
            "std     518.733377   522.353946   514.455903   518.524020  102537.449058\n",
            "min     256.600000   259.400000   255.100000   256.600000       0.000000\n",
            "25%     459.850000   463.900000   457.450000   460.500000   52938.500000\n",
            "50%    1188.800000  1198.000000  1179.700000  1188.700000  126006.000000\n",
            "75%    1381.400000  1392.750000  1368.100000  1383.050000  193109.000000\n",
            "max    2076.400000  2089.200000  2049.000000  2069.400000  816531.000000\n",
            "\n",
            "Описательная статистика (все столбцы):\n",
            "              Date         Open         High          Low        Close  \\\n",
            "count         5703  5703.000000  5703.000000  5703.000000  5703.000000   \n",
            "unique        5703          NaN          NaN          NaN          NaN   \n",
            "top     2022-09-02          NaN          NaN          NaN          NaN   \n",
            "freq             1          NaN          NaN          NaN          NaN   \n",
            "mean           NaN  1040.382816  1048.339181  1031.863169  1040.298282   \n",
            "std            NaN   518.733377   522.353946   514.455903   518.524020   \n",
            "min            NaN   256.600000   259.400000   255.100000   256.600000   \n",
            "25%            NaN   459.850000   463.900000   457.450000   460.500000   \n",
            "50%            NaN  1188.800000  1198.000000  1179.700000  1188.700000   \n",
            "75%            NaN  1381.400000  1392.750000  1368.100000  1383.050000   \n",
            "max            NaN  2076.400000  2089.200000  2049.000000  2069.400000   \n",
            "\n",
            "               Volume Currency  \n",
            "count     5703.000000     5703  \n",
            "unique            NaN        1  \n",
            "top               NaN      USD  \n",
            "freq              NaN     5703  \n",
            "mean    139141.669297      NaN  \n",
            "std     102537.449058      NaN  \n",
            "min          0.000000      NaN  \n",
            "25%      52938.500000      NaN  \n",
            "50%     126006.000000      NaN  \n",
            "75%     193109.000000      NaN  \n",
            "max     816531.000000      NaN  \n",
            "\n",
            "Уникальные значения для категориальных столбцов:\n",
            "Date: ['2000-01-04' '2000-01-05' '2000-01-06' '2000-01-07' '2000-01-10'\n",
            " '2000-01-11' '2000-01-12' '2000-01-13' '2000-01-14' '2000-01-18']\n",
            "Currency: ['USD']\n"
          ]
        }
      ]
    },
    {
      "cell_type": "markdown",
      "source": [
        "**Выводы:**\n",
        "\n",
        "Данные хорошо структурированы, большинство признаков числовые.\n",
        "Столбец Date нужно привести к типу datetime.\n",
        "Явных пропусков и дубликатов нет."
      ],
      "metadata": {
        "id": "Dq9pwzIeZn8X"
      }
    },
    {
      "cell_type": "code",
      "source": [
        "# 3. Проверка и приведение наименований столбцов и текста к нижнему регистру\n",
        "# Приведём названия столбцов к змеиному регистру (snake_case) и нижнему регистру\n",
        "print('\\nПреобразуем названия столбцов к змеиному регистру и нижнему регистру:')\n",
        "df.columns = [col.strip().replace(' ', '_').replace('-', '_').lower() for col in df.columns]\n",
        "print('Новые названия столбцов:', list(df.columns))\n",
        "\n",
        "# Приведём все текстовые значения к нижнему регистру\n",
        "for col in df.select_dtypes(include='object').columns:\n",
        "    df[col] = df[col].str.lower()\n",
        "print('Все текстовые значения приведены к нижнему регистру.')\n",
        "\n"
      ],
      "metadata": {
        "colab": {
          "base_uri": "https://localhost:8080/"
        },
        "id": "moSPurrGXjju",
        "outputId": "9989db6d-c801-40f6-868f-48029e306281"
      },
      "execution_count": 6,
      "outputs": [
        {
          "output_type": "stream",
          "name": "stdout",
          "text": [
            "\n",
            "Преобразуем названия столбцов к змеиному регистру и нижнему регистру:\n",
            "Новые названия столбцов: ['date', 'open', 'high', 'low', 'close', 'volume', 'currency']\n",
            "Все текстовые значения приведены к нижнему регистру.\n"
          ]
        }
      ]
    },
    {
      "cell_type": "code",
      "source": [
        "# 4. Проверка датафрейма на пропуски и их заполнение\n",
        "print('\\nПроверка пропусков:')\n",
        "missing = df.isnull().sum()\n",
        "print(missing[missing > 0])\n",
        "\n",
        "# Заполняем пропуски: для числовых — медианой, для категориальных — модой\n",
        "for col in df.columns:\n",
        "    if df[col].isnull().sum() > 0:\n",
        "        if df[col].dtype == 'object':\n",
        "            # Для категориальных признаков используем моду (самое частое значение)\n",
        "            mode_value = df[col].mode()[0]\n",
        "            df[col] = df[col].fillna(mode_value)\n",
        "            print(f'Столбец {col}: пропуски заполнены модой ({mode_value})')\n",
        "        else:\n",
        "            # Для числовых признаков используем медиану\n",
        "            median_value = df[col].median()\n",
        "            df[col] = df[col].fillna(median_value)\n",
        "            print(f'Столбец {col}: пропуски заполнены медианой ({median_value})')\n",
        "\n",
        "# Если пропусков <5% и заполнить невозможно — удаляем такие строки\n",
        "threshold = 0.05 * len(df)\n",
        "for col in df.columns:\n",
        "    if df[col].isnull().sum() > 0 and df[col].isnull().sum() <= threshold:\n",
        "        df = df[df[col].notnull()]\n",
        "        print(f'Столбец {col}: строки с пропусками удалены (менее 5% от общего числа)')\n",
        "\n",
        ""
      ],
      "metadata": {
        "colab": {
          "base_uri": "https://localhost:8080/"
        },
        "id": "4WnCta0tXjgy",
        "outputId": "5d47e5bd-5025-4194-ac1a-b95d9f47ac0b"
      },
      "execution_count": 7,
      "outputs": [
        {
          "output_type": "stream",
          "name": "stdout",
          "text": [
            "\n",
            "Проверка пропусков:\n",
            "Series([], dtype: int64)\n"
          ]
        }
      ]
    },
    {
      "cell_type": "code",
      "source": [
        "# 5. Изменение типов данных\n",
        "print('\\nИзменение типов данных, если необходимо:')\n",
        "for col in df.columns:\n",
        "    if df[col].dtype == 'object':\n",
        "        try:\n",
        "            # Пробуем преобразовать к дате\n",
        "            df[col] = pd.to_datetime(df[col])\n",
        "            print(f'Столбец {col}: преобразован в datetime')\n",
        "        except:\n",
        "            try:\n",
        "                # Пробуем преобразовать к float\n",
        "                df[col] = df[col].astype(float)\n",
        "                print(f'Столбец {col}: преобразован в float')\n",
        "            except:\n",
        "                # Оставляем как есть (категориальный)\n",
        "                pass\n",
        "# Объяснения: преобразуем к числовым или датам для корректной работы с данными и анализа\n",
        "\n"
      ],
      "metadata": {
        "colab": {
          "base_uri": "https://localhost:8080/"
        },
        "id": "K4XFG5CHXjeD",
        "outputId": "22ca3c40-8526-4100-9eff-fe99e5273ee4"
      },
      "execution_count": 8,
      "outputs": [
        {
          "output_type": "stream",
          "name": "stdout",
          "text": [
            "\n",
            "Изменение типов данных, если необходимо:\n",
            "Столбец date: преобразован в datetime\n"
          ]
        }
      ]
    },
    {
      "cell_type": "code",
      "source": [
        "# 6. Поиск и удаление дубликатов\n",
        "print('\\nПоиск дубликатов:')\n",
        "dups = df.duplicated()\n",
        "print(f'Количество дубликатов: {dups.sum()}')\n",
        "if dups.sum() > 0:\n",
        "    df = df.drop_duplicates()\n",
        "    print('Дубликаты удалены.')\n",
        "else:\n",
        "    print('Дубликаты отсутствуют.')\n"
      ],
      "metadata": {
        "colab": {
          "base_uri": "https://localhost:8080/"
        },
        "id": "NGUOVVx3XjbS",
        "outputId": "f19e0652-5740-4e79-c678-2555cb5282db"
      },
      "execution_count": 9,
      "outputs": [
        {
          "output_type": "stream",
          "name": "stdout",
          "text": [
            "\n",
            "Поиск дубликатов:\n",
            "Количество дубликатов: 0\n",
            "Дубликаты отсутствуют.\n"
          ]
        }
      ]
    },
    {
      "cell_type": "code",
      "source": [
        "# 7. Промежуточные выводы\n",
        "print('\\nПромежуточные выводы:')\n",
        "print(f'Итоговая форма датафрейма: {df.shape}')\n",
        "print('Типы данных после обработки:')\n",
        "print(df.dtypes)\n",
        "print('Количество пропусков после обработки:')\n",
        "print(df.isnull().sum().sum())\n",
        "print('Предобработка завершена. Данные готовы к дальнейшему анализу.')"
      ],
      "metadata": {
        "colab": {
          "base_uri": "https://localhost:8080/"
        },
        "id": "J_jsnPKuXjYf",
        "outputId": "9c0a71d8-1e8e-47fc-af7e-476f32c3808a"
      },
      "execution_count": 10,
      "outputs": [
        {
          "output_type": "stream",
          "name": "stdout",
          "text": [
            "\n",
            "Промежуточные выводы:\n",
            "Итоговая форма датафрейма: (5703, 7)\n",
            "Типы данных после обработки:\n",
            "date        datetime64[ns]\n",
            "open               float64\n",
            "high               float64\n",
            "low                float64\n",
            "close              float64\n",
            "volume               int64\n",
            "currency            object\n",
            "dtype: object\n",
            "Количество пропусков после обработки:\n",
            "0\n",
            "Предобработка завершена. Данные готовы к дальнейшему анализу.\n"
          ]
        }
      ]
    }
  ]
}